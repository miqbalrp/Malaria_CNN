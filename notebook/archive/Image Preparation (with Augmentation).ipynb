{
 "cells": [
  {
   "cell_type": "markdown",
   "metadata": {},
   "source": [
    "# Check Data Availability"
   ]
  },
  {
   "cell_type": "code",
   "execution_count": 1,
   "metadata": {},
   "outputs": [
    {
     "name": "stdout",
     "output_type": "stream",
     "text": [
      "Malaria images : 13754\n",
      "Healthy images : 13754\n"
     ]
    }
   ],
   "source": [
    "import os\n",
    "import glob\n",
    "\n",
    "images_dir = os.path.join('../data/cell_images')\n",
    "malaria_dir = os.path.join(images_dir,'Parasitized')\n",
    "healthy_dir = os.path.join(images_dir,'Uninfected')\n",
    "\n",
    "malaria_img = glob.glob(malaria_dir+'/*.png')\n",
    "healthy_img = glob.glob(healthy_dir+'/*.png')\n",
    "\n",
    "print('Malaria images : %d' %len(malaria_img))\n",
    "print('Healthy images : %d' %len(healthy_img))"
   ]
  },
  {
   "cell_type": "code",
   "execution_count": null,
   "metadata": {},
   "outputs": [],
   "source": [
    "import numpy as np\n",
    "import pandas as pd\n",
    "import cv2\n",
    "from tqdm import tqdm\n",
    "\n",
    "data_frac = 0.1\n",
    "\n",
    "df = pd.DataFrame({\n",
    "    'img': malaria_img + healthy_img,\n",
    "    'label': ['malaria']*len(malaria_img) + ['healthy']*len(healthy_img)\n",
    "}).sample(frac=data_frac).reset_index(drop=True)\n",
    "\n",
    "img_num = df.shape[0]\n",
    "\n",
    "dim1 = []\n",
    "dim2 = []\n",
    "\n",
    "for i in range(img_num):\n",
    "    dim1.append(cv2.imread(df.img[i]).shape[0])\n",
    "    dim2.append(cv2.imread(df.img[i]).shape[1])\n",
    "    \n",
    "df['dim1'] = dim1\n",
    "df['dim2'] = dim2\n",
    "\n",
    "df"
   ]
  },
  {
   "cell_type": "code",
   "execution_count": null,
   "metadata": {
    "scrolled": true
   },
   "outputs": [],
   "source": [
    "import matplotlib.pyplot as plt\n",
    "import seaborn as sns\n",
    "%matplotlib inline\n",
    "sns.set()\n",
    "\n",
    "plt.figure(1, figsize=(10,10))\n",
    "\n",
    "for i in range(16):\n",
    "    plt.subplot(4,4,i+1)\n",
    "    plt.subplots_adjust(hspace=0.1,wspace=0.5)\n",
    "    plt.imshow(cv2.imread(df.img[i]))\n",
    "    plt.title(df.label[i])\n",
    "    plt.xticks([])\n",
    "    plt.yticks([])"
   ]
  },
  {
   "cell_type": "code",
   "execution_count": null,
   "metadata": {},
   "outputs": [],
   "source": [
    "plt.figure(figsize=(8,4))\n",
    "sns.countplot(x='label', data=df)\n",
    "plt.title('Number of Each Class in %2f of Data' %(data_frac))\n",
    "plt.show()"
   ]
  },
  {
   "cell_type": "code",
   "execution_count": null,
   "metadata": {},
   "outputs": [],
   "source": [
    "p = sns.jointplot(data=df,x='dim1',y='dim2', hue='label', s=100, height=10)\n",
    "p.fig.suptitle(\"Image Dimension Distribution\")\n",
    "p.ax_joint.collections[0].set_alpha(1)\n",
    "p.fig.tight_layout()"
   ]
  },
  {
   "cell_type": "code",
   "execution_count": null,
   "metadata": {},
   "outputs": [],
   "source": [
    "df.describe()"
   ]
  },
  {
   "cell_type": "markdown",
   "metadata": {},
   "source": [
    "As we can see from plot and statistic above, the first and second dimension of images are varied and normally distributed. We need to standardize the dimension by resizing the image. We choose (130,130) as new dimensions since it's close to median and mean value. "
   ]
  },
  {
   "cell_type": "markdown",
   "metadata": {},
   "source": [
    "# Image Augmentation"
   ]
  },
  {
   "cell_type": "code",
   "execution_count": null,
   "metadata": {},
   "outputs": [],
   "source": [
    "from tensorflow.keras.preprocessing.image import ImageDataGenerator\n",
    "\n",
    "split = 0.2\n",
    "resize = (130,130)\n",
    "seed = 1\n",
    "\n",
    "train_datagen = ImageDataGenerator(validation_split = split,\n",
    "                             rescale=1./255,\n",
    "                             horizontal_flip=True\n",
    "                            )\n",
    "test_datagen = ImageDataGenerator(rescale=1./255)\n",
    "\n",
    "train_generator = train_datagen.flow_from_dataframe(\n",
    "    df,\n",
    "    directory = None,\n",
    "    x_col = 'img',\n",
    "    y_col = 'label',\n",
    "    target_size = resize,\n",
    "    class_mode = 'binary',\n",
    "    batch_size = 32,\n",
    "    shuffle = True,\n",
    "    seed = seed\n",
    ")\n",
    "\n",
    "validation_generator = train_datagen.flow_from_dataframe(\n",
    "    df,\n",
    "    directory = None,\n",
    "    x_col = 'img',\n",
    "    y_col = 'label',\n",
    "    target_size = resize,\n",
    "    class_mode = 'binary',\n",
    "    batch_size = 32,\n",
    "    shuffle = False,\n",
    ")"
   ]
  },
  {
   "cell_type": "code",
   "execution_count": null,
   "metadata": {},
   "outputs": [],
   "source": [
    "import tensorflow as tf\n",
    "from tensorflow.keras import Sequential\n",
    "from tensorflow.keras.layers import Conv2D,MaxPool2D,Dropout,Flatten,Dense,BatchNormalization\n",
    "from tensorflow.keras.callbacks import EarlyStopping"
   ]
  },
  {
   "cell_type": "code",
   "execution_count": null,
   "metadata": {},
   "outputs": [],
   "source": [
    "model = Sequential()\n",
    "model.add(Conv2D(16,(3,3),activation='relu',input_shape=(130,130,3)))\n",
    "model.add(MaxPool2D(2,2))\n",
    "model.add(Dropout(0.2))\n",
    "\n",
    "model.add(Conv2D(32,(3,3),activation='relu'))\n",
    "model.add(MaxPool2D(2,2))\n",
    "model.add(Dropout(0.3))\n",
    "\n",
    "model.add(Conv2D(64,(3,3),activation='relu'))\n",
    "model.add(MaxPool2D(2,2))\n",
    "model.add(Dropout(0.3))\n",
    "\n",
    "model.add(Flatten())\n",
    "model.add(Dense(64,activation='relu'))\n",
    "model.add(Dropout(0.5))\n",
    "\n",
    "model.add(Dense(1,activation='sigmoid'))"
   ]
  },
  {
   "cell_type": "code",
   "execution_count": null,
   "metadata": {},
   "outputs": [],
   "source": [
    "len(train_generator)"
   ]
  },
  {
   "cell_type": "code",
   "execution_count": null,
   "metadata": {},
   "outputs": [],
   "source": [
    "model.compile(optimizer='adam',loss='binary_crossentropy',metrics=['accuracy'])\n",
    "early_stop = EarlyStopping(monitor='val_loss',patience=2)\n",
    "\n",
    "history = model.fit_generator(generator = train_generator,\n",
    "                             steps_per_epoch = len(train_generator),\n",
    "                              epochs =5,\n",
    "                              validation_data = validation_generator,\n",
    "                              validation_steps=len(validation_generator),\n",
    "                             callbacks=[early_stop])"
   ]
  },
  {
   "cell_type": "code",
   "execution_count": null,
   "metadata": {},
   "outputs": [],
   "source": [
    "epochs=5\n",
    "epochRange = range(1,epochs+1)\n",
    "\n",
    "plt.plot(epochRange,history.history['acc'])\n",
    "plt.plot(epochRange,history.history['val_acc'])\n",
    "plt.title('Model Accuracy')\n",
    "plt.xlabel('Epoch')\n",
    "plt.ylabel('Accuracy')\n",
    "plt.legend(['Train','Validation'],loc='upper left')\n",
    "plt.show()\n",
    "\n",
    "plt.plot(epochRange,history.history['loss'])\n",
    "plt.plot(epochRange,history.history['val_loss'])\n",
    "plt.title('Model Loss')\n",
    "plt.xlabel('Epoch')\n",
    "plt.ylabel('Loss')\n",
    "plt.legend(['Train','Validation'],loc='upper left')\n",
    "plt.show()"
   ]
  },
  {
   "cell_type": "markdown",
   "metadata": {},
   "source": [
    "import pickle\n",
    "\n",
    "preprocessed_dir = os.path.join('../data/preprocessed')\n",
    "with open(preprocessed_dir+'/preprocessed_data.pickle','wb') as preprocessed_file:\n",
    "    pickle.dump(preprocessed, preprocessed_file)"
   ]
  }
 ],
 "metadata": {
  "kernelspec": {
   "display_name": "Python 3",
   "language": "python",
   "name": "python3"
  },
  "language_info": {
   "codemirror_mode": {
    "name": "ipython",
    "version": 3
   },
   "file_extension": ".py",
   "mimetype": "text/x-python",
   "name": "python",
   "nbconvert_exporter": "python",
   "pygments_lexer": "ipython3",
   "version": "3.6.13"
  }
 },
 "nbformat": 4,
 "nbformat_minor": 4
}
